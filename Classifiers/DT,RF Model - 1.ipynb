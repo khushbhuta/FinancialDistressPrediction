{
 "cells": [
  {
   "cell_type": "code",
   "execution_count": 2,
   "id": "57c095a3-f6f8-4f77-84a6-fb8ad3726ec0",
   "metadata": {},
   "outputs": [],
   "source": [
    "import pandas as pd\n",
    "import numpy as np\n",
    "import seaborn as sns\n",
    "import matplotlib.pyplot as plt\n",
    "from sklearn import metrics\n",
    "from sklearn.model_selection import train_test_split\n",
    "from sklearn.tree import DecisionTreeClassifier\n",
    "from sklearn.ensemble import RandomForestClassifier\n",
    "from sklearn.metrics import confusion_matrix,classification_report\n",
    "from sklearn.preprocessing import LabelEncoder"
   ]
  },
  {
   "cell_type": "markdown",
   "id": "48e1e750-5ba6-4cb1-bba7-ad81f04a3081",
   "metadata": {},
   "source": [
    "The df - \"data\" contains all the cleaned and labelled financial data"
   ]
  },
  {
   "cell_type": "code",
   "execution_count": 3,
   "id": "9c0c528b-c5d1-454e-85d7-cfe1ecbad8f9",
   "metadata": {},
   "outputs": [],
   "source": [
    "data = pd.read_csv('cleaned_financial_data.csv')"
   ]
  },
  {
   "cell_type": "code",
   "execution_count": 4,
   "id": "9aa3487e-23e1-48a6-a4aa-ec00fd0684b8",
   "metadata": {},
   "outputs": [],
   "source": [
    "data = data.drop(columns = ['Revenue', 'Difference between normalised pat and pat reported by company', 'Deposits (accepted by commercial banks)'])"
   ]
  },
  {
   "cell_type": "code",
   "execution_count": 5,
   "id": "2a996377-cc4e-4734-8ae8-acc664297b05",
   "metadata": {
    "scrolled": true
   },
   "outputs": [
    {
     "data": {
      "text/plain": [
       "Index(['Name', 'Company code', 'Total income', 'Sales', 'Sales returns',\n",
       "       'Net sales', 'Sales / Net fixed assets', 'Change in stock',\n",
       "       'Total expenses', 'Profit after tax',\n",
       "       'Profit after tax reported by company', 'PBDITA', 'PBPT', 'PBT', 'PBIT',\n",
       "       'Cash profit', 'Depreciation as % of PBDITA',\n",
       "       'Amortisation as % of PBDITA', 'PAT as % of PBDITA',\n",
       "       'Total liabilities', 'Total capital', 'Reserves and funds',\n",
       "       'Capital, debt, investment & other reserves',\n",
       "       'Surplus/deficit as at the end of the year',\n",
       "       'Retained profits/losses during the year', 'Non-current liabilities',\n",
       "       'Long term borrowings excl current portion',\n",
       "       'Long term debentures and bonds',\n",
       "       'Interest accrued and due (long term) on borrowings',\n",
       "       'Long term fixed deposits', 'Other long term borrowings',\n",
       "       'Other long term liabilities', 'Current liabilities & provisions',\n",
       "       'Current liabilities', 'Short-term borrowings',\n",
       "       'Short term debentures and bonds', 'Short term fixed deposits', 'Debt',\n",
       "       'Debt to equity ratio (times)', 'Total assets', 'Non-current assets',\n",
       "       'Net fixed assets', 'Net intangible assets',\n",
       "       'Net property, plant and equipment',\n",
       "       'Gross property, plant and equipment',\n",
       "       'Depreciation on PPE for the year',\n",
       "       'Net tangible assets (break up not available)',\n",
       "       'Term loans (long term)', 'Long term investments',\n",
       "       'Long term loans & advances', 'Other long term assets',\n",
       "       'Current assets (incl. short term investments, loans & advances)',\n",
       "       'Short term investments', 'Cash balance', 'Short term loans & advances',\n",
       "       'Short term investments to current assets', 'Net working capital',\n",
       "       'Net working capital (cost of sales method)', 'Quick ratio (times)',\n",
       "       'Current ratio (times)', 'Cash to current liabilities (times)',\n",
       "       'WIP turnover (times)', 'Creditors turnover (times)',\n",
       "       'Net cash flow from operating activities',\n",
       "       'Adjustments for depreciation & amortisation in cash flow statement',\n",
       "       'Operating cash flow before working capital changes',\n",
       "       'Cash outflow from finance activities',\n",
       "       'Cash outflow from investment activities',\n",
       "       'Profit or loss on sale of assets', 'Change in cash and bank balance',\n",
       "       'Change in current liab and provisions', 'Change in PAT net of P&E',\n",
       "       'Change in sales', 'Change in total income',\n",
       "       'Change in working capital', 'Change in working capital assets',\n",
       "       'Change in working capital liabilities', 'Label'],\n",
       "      dtype='object')"
      ]
     },
     "execution_count": 5,
     "metadata": {},
     "output_type": "execute_result"
    }
   ],
   "source": [
    "data.columns"
   ]
  },
  {
   "cell_type": "code",
   "execution_count": 6,
   "id": "8d70253c-d491-489b-8a81-3486daa4b640",
   "metadata": {},
   "outputs": [],
   "source": [
    "numeric_columns = ['Total income', 'Sales', 'Sales returns',\n",
    "       'Net sales', 'Sales / Net fixed assets', 'Change in stock',\n",
    "       'Total expenses', 'Profit after tax',\n",
    "       'Profit after tax reported by company', 'PBDITA', 'PBPT', 'PBT', 'PBIT',\n",
    "       'Cash profit', 'Depreciation as % of PBDITA',\n",
    "       'Amortisation as % of PBDITA', 'PAT as % of PBDITA',\n",
    "       'Total liabilities', 'Total capital', 'Reserves and funds',\n",
    "       'Capital, debt, investment & other reserves',\n",
    "       'Surplus/deficit as at the end of the year',\n",
    "       'Retained profits/losses during the year', 'Non-current liabilities',\n",
    "       'Long term borrowings excl current portion',\n",
    "       'Long term debentures and bonds',\n",
    "       'Interest accrued and due (long term) on borrowings',\n",
    "       'Long term fixed deposits', 'Other long term borrowings',\n",
    "       'Other long term liabilities', 'Current liabilities & provisions',\n",
    "       'Current liabilities', 'Short-term borrowings',\n",
    "       'Short term debentures and bonds', 'Short term fixed deposits', 'Debt',\n",
    "       'Debt to equity ratio (times)', 'Total assets', 'Non-current assets',\n",
    "       'Net fixed assets', 'Net intangible assets',\n",
    "       'Net property, plant and equipment',\n",
    "       'Gross property, plant and equipment',\n",
    "       'Depreciation on PPE for the year',\n",
    "       'Net tangible assets (break up not available)',\n",
    "       'Term loans (long term)', 'Long term investments',\n",
    "       'Long term loans & advances', 'Other long term assets',\n",
    "       'Current assets (incl. short term investments, loans & advances)',\n",
    "       'Short term investments', 'Cash balance', 'Short term loans & advances',\n",
    "       'Short term investments to current assets', 'Net working capital',\n",
    "       'Net working capital (cost of sales method)', 'Quick ratio (times)',\n",
    "       'Current ratio (times)', 'Cash to current liabilities (times)',\n",
    "       'WIP turnover (times)', 'Creditors turnover (times)',\n",
    "       'Net cash flow from operating activities',\n",
    "       'Adjustments for depreciation & amortisation in cash flow statement',\n",
    "       'Operating cash flow before working capital changes',\n",
    "       'Cash outflow from finance activities',\n",
    "       'Cash outflow from investment activities',\n",
    "       'Profit or loss on sale of assets', 'Change in cash and bank balance',\n",
    "       'Change in current liab and provisions', 'Change in PAT net of P&E',\n",
    "       'Change in sales', 'Change in total income',\n",
    "       'Change in working capital', 'Change in working capital assets',\n",
    "       'Change in working capital liabilities']\n",
    "non_numeric_columns = ['Name','Company code','Label']"
   ]
  },
  {
   "cell_type": "code",
   "execution_count": 7,
   "id": "d2b1311a-ae12-4f01-9a10-b8658551c59b",
   "metadata": {},
   "outputs": [],
   "source": [
    "X = data[numeric_columns]\n",
    "y = data['Label']"
   ]
  },
  {
   "cell_type": "code",
   "execution_count": 8,
   "id": "1eb45d8e-abd6-4b9b-aefb-3a84b7d48822",
   "metadata": {},
   "outputs": [],
   "source": [
    "X_train,X_test,y_train,y_test = train_test_split(X,y,test_size=0.2,random_state=42)"
   ]
  },
  {
   "cell_type": "code",
   "execution_count": 21,
   "id": "567d0c2d-5554-4097-9699-d52f7eaab030",
   "metadata": {},
   "outputs": [],
   "source": [
    "classifiers = {\n",
    "    \"Decision Tree\" : DecisionTreeClassifier(criterion = 'gini', max_depth = 10, min_samples_split = 10, random_state = 0),\n",
    "    \"Random Forest\" : RandomForestClassifier(n_estimators = 150, max_depth = 15, criterion = 'gini', random_state = 42)\n",
    "}"
   ]
  },
  {
   "cell_type": "code",
   "execution_count": 22,
   "id": "c382421c",
   "metadata": {},
   "outputs": [],
   "source": [
    "clf_dt = classifiers[\"Decision Tree\"]\n",
    "clf_rf = classifiers[\"Random Forest\"]"
   ]
  },
  {
   "cell_type": "code",
   "execution_count": 23,
   "id": "21b72e3c-e2cf-49a9-835d-645e9b66088a",
   "metadata": {},
   "outputs": [],
   "source": [
    "clf_dt.fit(X_train,y_train)\n",
    "y_pred = clf_dt.predict(X_test)"
   ]
  },
  {
   "cell_type": "code",
   "execution_count": 24,
   "id": "472114b3-994d-491d-bb6b-1f28ef0fa1ab",
   "metadata": {},
   "outputs": [
    {
     "name": "stdout",
     "output_type": "stream",
     "text": [
      "Metrics for the Decision Tree Classifier: \n",
      "Accuracy: 0.9863\n",
      "Precision: 0.7545\n",
      "Recall: 0.6282\n",
      "F1_Score: 0.6697\n"
     ]
    }
   ],
   "source": [
    "accuracy = metrics.accuracy_score(y_test,y_pred)\n",
    "precision = metrics.precision_score(y_test, y_pred, average = 'macro')\n",
    "recall = metrics.recall_score(y_test, y_pred, average = 'macro')\n",
    "f1_score = metrics.f1_score(y_test,y_pred,average='macro')\n",
    "\n",
    "# printing the metrics (macro values for precision, recall and F1-Score)\n",
    "print(f'Metrics for the Decision Tree Classifier: ')\n",
    "print(f'Accuracy: {accuracy:.4f}')\n",
    "print(f'Precision: {precision:.4f}')\n",
    "print(f'Recall: {recall:.4f}')\n",
    "print(f'F1_Score: {f1_score:.4f}')"
   ]
  },
  {
   "cell_type": "code",
   "execution_count": 25,
   "id": "0079d7b2-2c2a-4d36-963f-465a3d4052a6",
   "metadata": {},
   "outputs": [
    {
     "data": {
      "image/png": "[encoded data removed]",
      "text/plain": [
       "<Figure size 1200x800 with 2 Axes>"
      ]
     },
     "metadata": {},
     "output_type": "display_data"
    },
    {
     "data": {
      "text/plain": [
       "<Figure size 640x480 with 0 Axes>"
      ]
     },
     "metadata": {},
     "output_type": "display_data"
    }
   ],
   "source": [
    "# making the confusion matrix for the same\n",
    "cnf_matrix_dt = metrics.confusion_matrix(y_test,y_pred)\n",
    "normalized_cnf_matrix_dt = cnf_matrix_dt.astype('float')/cnf_matrix_dt.sum(axis=1)[:,np.newaxis]\n",
    "plt.figure(figsize=(12,8))\n",
    "sns.heatmap(normalized_cnf_matrix_dt,annot = True, fmt = '.3f',)\n",
    "plt.xlabel('Prediction')\n",
    "plt.ylabel('Actual')\n",
    "plt.title(f'Confusion Matrix for Decision Tree Classifier')\n",
    "plt.show()\n",
    "plt.savefig('DT Classifier For Bankruptcy Prediction')"
   ]
  },
  {
   "cell_type": "code",
   "execution_count": 26,
   "id": "d1573802-faa2-4857-a1bf-cbe0909a2cf3",
   "metadata": {},
   "outputs": [],
   "source": [
    "clf_rf.fit(X_train,y_train)\n",
    "y_pred = clf_rf.predict(X_test)"
   ]
  },
  {
   "cell_type": "code",
   "execution_count": 27,
   "id": "b987156e-1bcc-45fb-ab57-c0b7f68c9ada",
   "metadata": {},
   "outputs": [
    {
     "name": "stdout",
     "output_type": "stream",
     "text": [
      "Metrics for the Random Forest Classifier: \n",
      "Accuracy: 0.9875\n",
      "Precision: 0.9937\n",
      "Recall: 0.5519\n",
      "F1_Score: 0.5910\n"
     ]
    }
   ],
   "source": [
    "accuracy = metrics.accuracy_score(y_test,y_pred)\n",
    "precision = metrics.precision_score(y_test, y_pred, average = 'macro')\n",
    "recall = metrics.recall_score(y_test, y_pred, average = 'macro')\n",
    "f1_score = metrics.f1_score(y_test,y_pred,average='macro')\n",
    "\n",
    "# printing the metrics (macro values for precision, recall and F1-Score)\n",
    "print(f'Metrics for the Random Forest Classifier: ')\n",
    "print(f'Accuracy: {accuracy:.4f}')\n",
    "print(f'Precision: {precision:.4f}')\n",
    "print(f'Recall: {recall:.4f}')\n",
    "print(f'F1_Score: {f1_score:.4f}')"
   ]
  },
  {
   "cell_type": "code",
   "execution_count": 28,
   "id": "f1e9afc0-bf6c-4089-bec2-0d70c9785ecf",
   "metadata": {},
   "outputs": [
    {
     "data": {
      "image/png": "[encoded data removed]",
      "text/plain": [
       "<Figure size 1200x800 with 2 Axes>"
      ]
     },
     "metadata": {},
     "output_type": "display_data"
    },
    {
     "data": {
      "text/plain": [
       "<Figure size 640x480 with 0 Axes>"
      ]
     },
     "metadata": {},
     "output_type": "display_data"
    }
   ],
   "source": [
    "# making the confusion matrix for the same\n",
    "cnf_matrix_rf = metrics.confusion_matrix(y_test,y_pred)\n",
    "normalized_cnf_matrix_rf = cnf_matrix_rf.astype('float')/cnf_matrix_rf.sum(axis=1)[:,np.newaxis]\n",
    "plt.figure(figsize=(12,8))\n",
    "sns.heatmap(normalized_cnf_matrix_rf,annot = True, fmt = '.3f',)\n",
    "plt.xlabel('Prediction')\n",
    "plt.ylabel('Actual')\n",
    "plt.title(f'Confusion Matrix for Random Forest Classifier')\n",
    "plt.show()\n",
    "plt.savefig('RF Classifier For Bankruptcy Prediction')"
   ]
  },
  {
   "cell_type": "markdown",
   "id": "24a20d82-1a71-4d65-a1aa-1767ef503afb",
   "metadata": {},
   "source": [
    "The DT and RF classifiers show very poor results, and using the heatmap we can see that the misclassification rate of bankrupt companies is very high (67% in DT and 90% in RF)"
   ]
  }
 ],
 "metadata": {
  "kernelspec": {
   "display_name": "Python 3",
   "language": "python",
   "name": "python3"
  },
  "language_info": {
   "codemirror_mode": {
    "name": "ipython",
    "version": 3
   },
   "file_extension": ".py",
   "mimetype": "text/x-python",
   "name": "python",
   "nbconvert_exporter": "python",
   "pygments_lexer": "ipython3",
   "version": "3.11.7"
  }
 },
 "nbformat": 4,
 "nbformat_minor": 5
}
